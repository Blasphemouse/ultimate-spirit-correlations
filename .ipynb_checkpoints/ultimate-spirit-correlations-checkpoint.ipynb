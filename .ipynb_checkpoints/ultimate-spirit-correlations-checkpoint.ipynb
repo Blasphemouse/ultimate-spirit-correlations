{
 "cells": [
  {
   "cell_type": "code",
   "execution_count": 21,
   "metadata": {},
   "outputs": [],
   "source": [
    "import numpy as np\n",
    "import pandas as pd\n",
    "import seaborn as sns"
   ]
  },
  {
   "cell_type": "code",
   "execution_count": 22,
   "metadata": {},
   "outputs": [],
   "source": [
    "menResults2018=pd.read_csv('2018-Results-Men.csv', sep=',',header=0)\n",
    "menSpirit2018=pd.read_csv('2018-Spirit-Men.csv', sep=',',header=0)\n",
    "\n",
    "mixedResults2018=pd.read_csv('2018-Results-Mixed.csv', sep=',',header=0)\n",
    "mixedSpirit2018=pd.read_csv('2018-Spirit-Mixed.csv', sep=',',header=0)\n",
    "\n",
    "womenResults2018=pd.read_csv('2018-Results-Women.csv', sep=',',header=0)\n",
    "womenSpirit2018=pd.read_csv('2018-Spirit-Women.csv', sep=',',header=0)"
   ]
  },
  {
   "cell_type": "code",
   "execution_count": 23,
   "metadata": {},
   "outputs": [],
   "source": [
    "men2018 = pd.merge(menResults2018, menSpirit2018, left_on = 'Team', right_on = 'Team')\n",
    "mixed2018 = pd.merge(mixedResults2018, mixedSpirit2018, left_on = 'Team', right_on = 'Team')\n",
    "women2018 = pd.merge(womenResults2018, womenSpirit2018, left_on = 'Team', right_on = 'Team')"
   ]
  },
  {
   "cell_type": "code",
   "execution_count": 30,
   "metadata": {},
   "outputs": [],
   "source": [
    "all2018 = pd.concat([men2018, mixed2018, women2018])"
   ]
  },
  {
   "cell_type": "code",
   "execution_count": 24,
   "metadata": {},
   "outputs": [
    {
     "data": {
      "text/html": [
       "<div>\n",
       "<style scoped>\n",
       "    .dataframe tbody tr th:only-of-type {\n",
       "        vertical-align: middle;\n",
       "    }\n",
       "\n",
       "    .dataframe tbody tr th {\n",
       "        vertical-align: top;\n",
       "    }\n",
       "\n",
       "    .dataframe thead th {\n",
       "        text-align: right;\n",
       "    }\n",
       "</style>\n",
       "<table border=\"1\" class=\"dataframe\">\n",
       "  <thead>\n",
       "    <tr style=\"text-align: right;\">\n",
       "      <th></th>\n",
       "      <th>Rank</th>\n",
       "      <th>Total</th>\n",
       "      <th>Rules</th>\n",
       "      <th>Fouls</th>\n",
       "      <th>Fair</th>\n",
       "      <th>Attitude</th>\n",
       "      <th>Comm.</th>\n",
       "    </tr>\n",
       "  </thead>\n",
       "  <tbody>\n",
       "    <tr>\n",
       "      <th>Rank</th>\n",
       "      <td>1.000000</td>\n",
       "      <td>0.334322</td>\n",
       "      <td>-0.088134</td>\n",
       "      <td>0.407900</td>\n",
       "      <td>0.290935</td>\n",
       "      <td>0.272569</td>\n",
       "      <td>0.260014</td>\n",
       "    </tr>\n",
       "    <tr>\n",
       "      <th>Total</th>\n",
       "      <td>0.334322</td>\n",
       "      <td>1.000000</td>\n",
       "      <td>0.546562</td>\n",
       "      <td>0.878852</td>\n",
       "      <td>0.787066</td>\n",
       "      <td>0.811542</td>\n",
       "      <td>0.589499</td>\n",
       "    </tr>\n",
       "    <tr>\n",
       "      <th>Rules</th>\n",
       "      <td>-0.088134</td>\n",
       "      <td>0.546562</td>\n",
       "      <td>1.000000</td>\n",
       "      <td>0.396534</td>\n",
       "      <td>0.364546</td>\n",
       "      <td>0.288470</td>\n",
       "      <td>0.014901</td>\n",
       "    </tr>\n",
       "    <tr>\n",
       "      <th>Fouls</th>\n",
       "      <td>0.407900</td>\n",
       "      <td>0.878852</td>\n",
       "      <td>0.396534</td>\n",
       "      <td>1.000000</td>\n",
       "      <td>0.609897</td>\n",
       "      <td>0.643810</td>\n",
       "      <td>0.453742</td>\n",
       "    </tr>\n",
       "    <tr>\n",
       "      <th>Fair</th>\n",
       "      <td>0.290935</td>\n",
       "      <td>0.787066</td>\n",
       "      <td>0.364546</td>\n",
       "      <td>0.609897</td>\n",
       "      <td>1.000000</td>\n",
       "      <td>0.498648</td>\n",
       "      <td>0.360426</td>\n",
       "    </tr>\n",
       "    <tr>\n",
       "      <th>Attitude</th>\n",
       "      <td>0.272569</td>\n",
       "      <td>0.811542</td>\n",
       "      <td>0.288470</td>\n",
       "      <td>0.643810</td>\n",
       "      <td>0.498648</td>\n",
       "      <td>1.000000</td>\n",
       "      <td>0.435929</td>\n",
       "    </tr>\n",
       "    <tr>\n",
       "      <th>Comm.</th>\n",
       "      <td>0.260014</td>\n",
       "      <td>0.589499</td>\n",
       "      <td>0.014901</td>\n",
       "      <td>0.453742</td>\n",
       "      <td>0.360426</td>\n",
       "      <td>0.435929</td>\n",
       "      <td>1.000000</td>\n",
       "    </tr>\n",
       "  </tbody>\n",
       "</table>\n",
       "</div>"
      ],
      "text/plain": [
       "              Rank     Total     Rules     Fouls      Fair  Attitude     Comm.\n",
       "Rank      1.000000  0.334322 -0.088134  0.407900  0.290935  0.272569  0.260014\n",
       "Total     0.334322  1.000000  0.546562  0.878852  0.787066  0.811542  0.589499\n",
       "Rules    -0.088134  0.546562  1.000000  0.396534  0.364546  0.288470  0.014901\n",
       "Fouls     0.407900  0.878852  0.396534  1.000000  0.609897  0.643810  0.453742\n",
       "Fair      0.290935  0.787066  0.364546  0.609897  1.000000  0.498648  0.360426\n",
       "Attitude  0.272569  0.811542  0.288470  0.643810  0.498648  1.000000  0.435929\n",
       "Comm.     0.260014  0.589499  0.014901  0.453742  0.360426  0.435929  1.000000"
      ]
     },
     "execution_count": 24,
     "metadata": {},
     "output_type": "execute_result"
    }
   ],
   "source": [
    "men2018.corr()"
   ]
  },
  {
   "cell_type": "code",
   "execution_count": 25,
   "metadata": {},
   "outputs": [
    {
     "data": {
      "text/html": [
       "<div>\n",
       "<style scoped>\n",
       "    .dataframe tbody tr th:only-of-type {\n",
       "        vertical-align: middle;\n",
       "    }\n",
       "\n",
       "    .dataframe tbody tr th {\n",
       "        vertical-align: top;\n",
       "    }\n",
       "\n",
       "    .dataframe thead th {\n",
       "        text-align: right;\n",
       "    }\n",
       "</style>\n",
       "<table border=\"1\" class=\"dataframe\">\n",
       "  <thead>\n",
       "    <tr style=\"text-align: right;\">\n",
       "      <th></th>\n",
       "      <th>Rank</th>\n",
       "      <th>Total</th>\n",
       "      <th>Rules</th>\n",
       "      <th>Fouls</th>\n",
       "      <th>Fair</th>\n",
       "      <th>Attitude</th>\n",
       "      <th>Comm.</th>\n",
       "    </tr>\n",
       "  </thead>\n",
       "  <tbody>\n",
       "    <tr>\n",
       "      <th>Rank</th>\n",
       "      <td>1.000000</td>\n",
       "      <td>0.359545</td>\n",
       "      <td>-0.014382</td>\n",
       "      <td>0.281765</td>\n",
       "      <td>0.448677</td>\n",
       "      <td>0.399677</td>\n",
       "      <td>0.318015</td>\n",
       "    </tr>\n",
       "    <tr>\n",
       "      <th>Total</th>\n",
       "      <td>0.359545</td>\n",
       "      <td>1.000000</td>\n",
       "      <td>0.624037</td>\n",
       "      <td>0.925055</td>\n",
       "      <td>0.844246</td>\n",
       "      <td>0.787889</td>\n",
       "      <td>0.884597</td>\n",
       "    </tr>\n",
       "    <tr>\n",
       "      <th>Rules</th>\n",
       "      <td>-0.014382</td>\n",
       "      <td>0.624037</td>\n",
       "      <td>1.000000</td>\n",
       "      <td>0.483839</td>\n",
       "      <td>0.412302</td>\n",
       "      <td>0.237980</td>\n",
       "      <td>0.520540</td>\n",
       "    </tr>\n",
       "    <tr>\n",
       "      <th>Fouls</th>\n",
       "      <td>0.281765</td>\n",
       "      <td>0.925055</td>\n",
       "      <td>0.483839</td>\n",
       "      <td>1.000000</td>\n",
       "      <td>0.713026</td>\n",
       "      <td>0.835349</td>\n",
       "      <td>0.716146</td>\n",
       "    </tr>\n",
       "    <tr>\n",
       "      <th>Fair</th>\n",
       "      <td>0.448677</td>\n",
       "      <td>0.844246</td>\n",
       "      <td>0.412302</td>\n",
       "      <td>0.713026</td>\n",
       "      <td>1.000000</td>\n",
       "      <td>0.542951</td>\n",
       "      <td>0.732645</td>\n",
       "    </tr>\n",
       "    <tr>\n",
       "      <th>Attitude</th>\n",
       "      <td>0.399677</td>\n",
       "      <td>0.787889</td>\n",
       "      <td>0.237980</td>\n",
       "      <td>0.835349</td>\n",
       "      <td>0.542951</td>\n",
       "      <td>1.000000</td>\n",
       "      <td>0.588304</td>\n",
       "    </tr>\n",
       "    <tr>\n",
       "      <th>Comm.</th>\n",
       "      <td>0.318015</td>\n",
       "      <td>0.884597</td>\n",
       "      <td>0.520540</td>\n",
       "      <td>0.716146</td>\n",
       "      <td>0.732645</td>\n",
       "      <td>0.588304</td>\n",
       "      <td>1.000000</td>\n",
       "    </tr>\n",
       "  </tbody>\n",
       "</table>\n",
       "</div>"
      ],
      "text/plain": [
       "              Rank     Total     Rules     Fouls      Fair  Attitude     Comm.\n",
       "Rank      1.000000  0.359545 -0.014382  0.281765  0.448677  0.399677  0.318015\n",
       "Total     0.359545  1.000000  0.624037  0.925055  0.844246  0.787889  0.884597\n",
       "Rules    -0.014382  0.624037  1.000000  0.483839  0.412302  0.237980  0.520540\n",
       "Fouls     0.281765  0.925055  0.483839  1.000000  0.713026  0.835349  0.716146\n",
       "Fair      0.448677  0.844246  0.412302  0.713026  1.000000  0.542951  0.732645\n",
       "Attitude  0.399677  0.787889  0.237980  0.835349  0.542951  1.000000  0.588304\n",
       "Comm.     0.318015  0.884597  0.520540  0.716146  0.732645  0.588304  1.000000"
      ]
     },
     "execution_count": 25,
     "metadata": {},
     "output_type": "execute_result"
    }
   ],
   "source": [
    "mixed2018.corr()"
   ]
  },
  {
   "cell_type": "code",
   "execution_count": 26,
   "metadata": {},
   "outputs": [
    {
     "data": {
      "text/html": [
       "<div>\n",
       "<style scoped>\n",
       "    .dataframe tbody tr th:only-of-type {\n",
       "        vertical-align: middle;\n",
       "    }\n",
       "\n",
       "    .dataframe tbody tr th {\n",
       "        vertical-align: top;\n",
       "    }\n",
       "\n",
       "    .dataframe thead th {\n",
       "        text-align: right;\n",
       "    }\n",
       "</style>\n",
       "<table border=\"1\" class=\"dataframe\">\n",
       "  <thead>\n",
       "    <tr style=\"text-align: right;\">\n",
       "      <th></th>\n",
       "      <th>Rank</th>\n",
       "      <th>Total</th>\n",
       "      <th>Rules</th>\n",
       "      <th>Fouls</th>\n",
       "      <th>Fair</th>\n",
       "      <th>Attitude</th>\n",
       "      <th>Comm.</th>\n",
       "    </tr>\n",
       "  </thead>\n",
       "  <tbody>\n",
       "    <tr>\n",
       "      <th>Rank</th>\n",
       "      <td>1.000000</td>\n",
       "      <td>0.107131</td>\n",
       "      <td>0.157449</td>\n",
       "      <td>0.268519</td>\n",
       "      <td>-0.001947</td>\n",
       "      <td>-0.010013</td>\n",
       "      <td>-0.006640</td>\n",
       "    </tr>\n",
       "    <tr>\n",
       "      <th>Total</th>\n",
       "      <td>0.107131</td>\n",
       "      <td>1.000000</td>\n",
       "      <td>0.622692</td>\n",
       "      <td>0.148007</td>\n",
       "      <td>0.655174</td>\n",
       "      <td>0.886808</td>\n",
       "      <td>0.509224</td>\n",
       "    </tr>\n",
       "    <tr>\n",
       "      <th>Rules</th>\n",
       "      <td>0.157449</td>\n",
       "      <td>0.622692</td>\n",
       "      <td>1.000000</td>\n",
       "      <td>0.018235</td>\n",
       "      <td>0.496687</td>\n",
       "      <td>0.396352</td>\n",
       "      <td>0.127041</td>\n",
       "    </tr>\n",
       "    <tr>\n",
       "      <th>Fouls</th>\n",
       "      <td>0.268519</td>\n",
       "      <td>0.148007</td>\n",
       "      <td>0.018235</td>\n",
       "      <td>1.000000</td>\n",
       "      <td>-0.037399</td>\n",
       "      <td>0.071700</td>\n",
       "      <td>-0.437498</td>\n",
       "    </tr>\n",
       "    <tr>\n",
       "      <th>Fair</th>\n",
       "      <td>-0.001947</td>\n",
       "      <td>0.655174</td>\n",
       "      <td>0.496687</td>\n",
       "      <td>-0.037399</td>\n",
       "      <td>1.000000</td>\n",
       "      <td>0.435853</td>\n",
       "      <td>0.004645</td>\n",
       "    </tr>\n",
       "    <tr>\n",
       "      <th>Attitude</th>\n",
       "      <td>-0.010013</td>\n",
       "      <td>0.886808</td>\n",
       "      <td>0.396352</td>\n",
       "      <td>0.071700</td>\n",
       "      <td>0.435853</td>\n",
       "      <td>1.000000</td>\n",
       "      <td>0.499721</td>\n",
       "    </tr>\n",
       "    <tr>\n",
       "      <th>Comm.</th>\n",
       "      <td>-0.006640</td>\n",
       "      <td>0.509224</td>\n",
       "      <td>0.127041</td>\n",
       "      <td>-0.437498</td>\n",
       "      <td>0.004645</td>\n",
       "      <td>0.499721</td>\n",
       "      <td>1.000000</td>\n",
       "    </tr>\n",
       "  </tbody>\n",
       "</table>\n",
       "</div>"
      ],
      "text/plain": [
       "              Rank     Total     Rules     Fouls      Fair  Attitude     Comm.\n",
       "Rank      1.000000  0.107131  0.157449  0.268519 -0.001947 -0.010013 -0.006640\n",
       "Total     0.107131  1.000000  0.622692  0.148007  0.655174  0.886808  0.509224\n",
       "Rules     0.157449  0.622692  1.000000  0.018235  0.496687  0.396352  0.127041\n",
       "Fouls     0.268519  0.148007  0.018235  1.000000 -0.037399  0.071700 -0.437498\n",
       "Fair     -0.001947  0.655174  0.496687 -0.037399  1.000000  0.435853  0.004645\n",
       "Attitude -0.010013  0.886808  0.396352  0.071700  0.435853  1.000000  0.499721\n",
       "Comm.    -0.006640  0.509224  0.127041 -0.437498  0.004645  0.499721  1.000000"
      ]
     },
     "execution_count": 26,
     "metadata": {},
     "output_type": "execute_result"
    }
   ],
   "source": [
    "women2018.corr()"
   ]
  },
  {
   "cell_type": "code",
   "execution_count": 31,
   "metadata": {},
   "outputs": [
    {
     "data": {
      "text/html": [
       "<div>\n",
       "<style scoped>\n",
       "    .dataframe tbody tr th:only-of-type {\n",
       "        vertical-align: middle;\n",
       "    }\n",
       "\n",
       "    .dataframe tbody tr th {\n",
       "        vertical-align: top;\n",
       "    }\n",
       "\n",
       "    .dataframe thead th {\n",
       "        text-align: right;\n",
       "    }\n",
       "</style>\n",
       "<table border=\"1\" class=\"dataframe\">\n",
       "  <thead>\n",
       "    <tr style=\"text-align: right;\">\n",
       "      <th></th>\n",
       "      <th>Rank</th>\n",
       "      <th>Total</th>\n",
       "      <th>Rules</th>\n",
       "      <th>Fouls</th>\n",
       "      <th>Fair</th>\n",
       "      <th>Attitude</th>\n",
       "      <th>Comm.</th>\n",
       "    </tr>\n",
       "  </thead>\n",
       "  <tbody>\n",
       "    <tr>\n",
       "      <th>Rank</th>\n",
       "      <td>1.000000</td>\n",
       "      <td>0.266868</td>\n",
       "      <td>-0.005921</td>\n",
       "      <td>0.315680</td>\n",
       "      <td>0.238240</td>\n",
       "      <td>0.191692</td>\n",
       "      <td>0.179208</td>\n",
       "    </tr>\n",
       "    <tr>\n",
       "      <th>Total</th>\n",
       "      <td>0.266868</td>\n",
       "      <td>1.000000</td>\n",
       "      <td>0.585432</td>\n",
       "      <td>0.790548</td>\n",
       "      <td>0.779696</td>\n",
       "      <td>0.804999</td>\n",
       "      <td>0.688934</td>\n",
       "    </tr>\n",
       "    <tr>\n",
       "      <th>Rules</th>\n",
       "      <td>-0.005921</td>\n",
       "      <td>0.585432</td>\n",
       "      <td>1.000000</td>\n",
       "      <td>0.384281</td>\n",
       "      <td>0.419519</td>\n",
       "      <td>0.294649</td>\n",
       "      <td>0.233652</td>\n",
       "    </tr>\n",
       "    <tr>\n",
       "      <th>Fouls</th>\n",
       "      <td>0.315680</td>\n",
       "      <td>0.790548</td>\n",
       "      <td>0.384281</td>\n",
       "      <td>1.000000</td>\n",
       "      <td>0.526313</td>\n",
       "      <td>0.556071</td>\n",
       "      <td>0.359437</td>\n",
       "    </tr>\n",
       "    <tr>\n",
       "      <th>Fair</th>\n",
       "      <td>0.238240</td>\n",
       "      <td>0.779696</td>\n",
       "      <td>0.419519</td>\n",
       "      <td>0.526313</td>\n",
       "      <td>1.000000</td>\n",
       "      <td>0.505418</td>\n",
       "      <td>0.399436</td>\n",
       "    </tr>\n",
       "    <tr>\n",
       "      <th>Attitude</th>\n",
       "      <td>0.191692</td>\n",
       "      <td>0.804999</td>\n",
       "      <td>0.294649</td>\n",
       "      <td>0.556071</td>\n",
       "      <td>0.505418</td>\n",
       "      <td>1.000000</td>\n",
       "      <td>0.513437</td>\n",
       "    </tr>\n",
       "    <tr>\n",
       "      <th>Comm.</th>\n",
       "      <td>0.179208</td>\n",
       "      <td>0.688934</td>\n",
       "      <td>0.233652</td>\n",
       "      <td>0.359437</td>\n",
       "      <td>0.399436</td>\n",
       "      <td>0.513437</td>\n",
       "      <td>1.000000</td>\n",
       "    </tr>\n",
       "  </tbody>\n",
       "</table>\n",
       "</div>"
      ],
      "text/plain": [
       "              Rank     Total     Rules     Fouls      Fair  Attitude     Comm.\n",
       "Rank      1.000000  0.266868 -0.005921  0.315680  0.238240  0.191692  0.179208\n",
       "Total     0.266868  1.000000  0.585432  0.790548  0.779696  0.804999  0.688934\n",
       "Rules    -0.005921  0.585432  1.000000  0.384281  0.419519  0.294649  0.233652\n",
       "Fouls     0.315680  0.790548  0.384281  1.000000  0.526313  0.556071  0.359437\n",
       "Fair      0.238240  0.779696  0.419519  0.526313  1.000000  0.505418  0.399436\n",
       "Attitude  0.191692  0.804999  0.294649  0.556071  0.505418  1.000000  0.513437\n",
       "Comm.     0.179208  0.688934  0.233652  0.359437  0.399436  0.513437  1.000000"
      ]
     },
     "execution_count": 31,
     "metadata": {},
     "output_type": "execute_result"
    }
   ],
   "source": [
    "all2018.corr()"
   ]
  },
  {
   "cell_type": "code",
   "execution_count": 27,
   "metadata": {},
   "outputs": [
    {
     "data": {
      "text/plain": [
       "<matplotlib.axes._subplots.AxesSubplot at 0x214119e5d30>"
      ]
     },
     "execution_count": 27,
     "metadata": {},
     "output_type": "execute_result"
    },
    {
     "data": {
      "image/png": "[encoded data removed]",
      "text/plain": [
       "<Figure size 432x288 with 2 Axes>"
      ]
     },
     "metadata": {
      "needs_background": "light"
     },
     "output_type": "display_data"
    }
   ],
   "source": [
    "sns.heatmap(men2018.corr(), cmap='RdBu_r')"
   ]
  },
  {
   "cell_type": "code",
   "execution_count": 28,
   "metadata": {},
   "outputs": [
    {
     "data": {
      "text/plain": [
       "<matplotlib.axes._subplots.AxesSubplot at 0x214119e08d0>"
      ]
     },
     "execution_count": 28,
     "metadata": {},
     "output_type": "execute_result"
    },
    {
     "data": {
      "image/png": "[encoded data removed]",
      "text/plain": [
       "<Figure size 432x288 with 2 Axes>"
      ]
     },
     "metadata": {
      "needs_background": "light"
     },
     "output_type": "display_data"
    }
   ],
   "source": [
    "sns.heatmap(mixed2018.corr(), cmap='RdBu_r')"
   ]
  },
  {
   "cell_type": "code",
   "execution_count": 29,
   "metadata": {},
   "outputs": [
    {
     "data": {
      "text/plain": [
       "<matplotlib.axes._subplots.AxesSubplot at 0x21411b0b8d0>"
      ]
     },
     "execution_count": 29,
     "metadata": {},
     "output_type": "execute_result"
    },
    {
     "data": {
      "image/png": "[encoded data removed]",
      "text/plain": [
       "<Figure size 432x288 with 2 Axes>"
      ]
     },
     "metadata": {
      "needs_background": "light"
     },
     "output_type": "display_data"
    }
   ],
   "source": [
    "sns.heatmap(women2018.corr(), cmap='RdBu_r')"
   ]
  },
  {
   "cell_type": "code",
   "execution_count": 32,
   "metadata": {},
   "outputs": [
    {
     "data": {
      "text/plain": [
       "<matplotlib.axes._subplots.AxesSubplot at 0x21411b9fb00>"
      ]
     },
     "execution_count": 32,
     "metadata": {},
     "output_type": "execute_result"
    },
    {
     "data": {
      "image/png": "[encoded data removed]",
      "text/plain": [
       "<Figure size 432x288 with 2 Axes>"
      ]
     },
     "metadata": {
      "needs_background": "light"
     },
     "output_type": "display_data"
    }
   ],
   "source": [
    "sns.heatmap(all2018.corr(), cmap='RdBu_r')"
   ]
  },
  {
   "cell_type": "markdown",
   "metadata": {},
   "source": [
    "* For 2018 Men's and Mixed, a high rank (i.e. lower placement) indicates a moderate positive correlation\n",
    "    * In 2018 Men's, there is an exception in the Rules category which has a very slight negative correlation.\n",
    "    * In 2018 Women's, the relationship between rank is significantly less pronounced. (Thanks Fury & Molly Brown!)\n",
    "* For 2018 Women's, there is a moderate negative correlation between communication and fouls.\n",
    "    * Wildfire and Schwa both had (slightly) below average on Fouls, but above average on Communication.\n",
    "* Overall, Fouls+Fair+Attitude share the strongest effect, but Communication and then Rules are not far behind."
   ]
  },
  {
   "cell_type": "markdown",
   "metadata": {},
   "source": [
    "## Thoughts\n",
    "\n",
    "* USAU Data requires massaging; no easy ways to extract from the website\n",
    "* Possible Expansions\n",
    "    * Seed (\"Happy to be here\")\n",
    "    * Difference between Rank & Seed (i.e. Underdog / Not meeting expectations)\n",
    "    * Point Differential (i.e. close games might get heated)\n",
    "* Spirit\n",
    "    * Like the relationship between pirates disappearing and rising temperature, this is correlation at work, not causation. \n",
    "        * With only 16 teams per division, it's not a lot of data either. This is where expanding to all available data would be very interesting!\n",
    "            * Full dataset (including game scores for usage in point differentials) is available as far back as 2004 (https://www.usaultimate.org/archives/2004_club.aspx)\n",
    "        * As documented at https://ultimatehistory.com/stats/ (specifically Spirit https://app.box.com/s/kl0mhm28ag4xmol6liqa), there are teams who have achieved top Spirit across all three divisions and won (Fury 2008 2010 2012 / Drag'n Thrust 2014 / Revolver 2013). \n",
    "    * According to the scoresheet, \"2\" is the average. \n",
    "        * 2018 Mixed has 4 teams below and an average of 10.76\n",
    "        * 2018 Women's has 5 teams below and an average of 10.22\n",
    "        * 2018 Men's has half the teams below \"10\" and half above and an average of 9.92."
   ]
  },
  {
   "cell_type": "markdown",
   "metadata": {},
   "source": [
    "## Sources\n",
    "\n",
    "* https://play.usaultimate.org/events/USA-Ultimate-National-Championships-2018/\n",
    "* https://ultiworld.com/2018/10/26/spirit-scores-club-nationals/\n"
   ]
  }
 ],
 "metadata": {
  "kernelspec": {
   "display_name": "Python 3",
   "language": "python",
   "name": "python3"
  },
  "language_info": {
   "codemirror_mode": {
    "name": "ipython",
    "version": 3
   },
   "file_extension": ".py",
   "mimetype": "text/x-python",
   "name": "python",
   "nbconvert_exporter": "python",
   "pygments_lexer": "ipython3",
   "version": "3.7.0"
  }
 },
 "nbformat": 4,
 "nbformat_minor": 2
}
