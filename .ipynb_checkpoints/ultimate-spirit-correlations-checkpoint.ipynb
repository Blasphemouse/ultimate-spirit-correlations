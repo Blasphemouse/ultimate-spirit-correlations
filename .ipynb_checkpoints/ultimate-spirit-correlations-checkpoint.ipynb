{
 "cells": [
  {
   "cell_type": "code",
   "execution_count": 12,
   "metadata": {},
   "outputs": [],
   "source": [
    "import numpy as np\n",
    "import pandas as pd\n",
    "import seaborn as sns"
   ]
  },
  {
   "cell_type": "code",
   "execution_count": 13,
   "metadata": {},
   "outputs": [],
   "source": [
    "menResults2018=pd.read_csv('2018-Results-Men.csv', sep=',',header=0)\n",
    "menSpirit2018=pd.read_csv('2018-Spirit-Men.csv', sep=',',header=0)"
   ]
  },
  {
   "cell_type": "code",
   "execution_count": 14,
   "metadata": {},
   "outputs": [],
   "source": [
    "men2018 = pd.merge(menResults2018, menSpirit2018, left_on = 'Team', right_on = 'Team')"
   ]
  },
  {
   "cell_type": "code",
   "execution_count": 15,
   "metadata": {},
   "outputs": [
    {
     "data": {
      "text/html": [
       "<div>\n",
       "<style scoped>\n",
       "    .dataframe tbody tr th:only-of-type {\n",
       "        vertical-align: middle;\n",
       "    }\n",
       "\n",
       "    .dataframe tbody tr th {\n",
       "        vertical-align: top;\n",
       "    }\n",
       "\n",
       "    .dataframe thead th {\n",
       "        text-align: right;\n",
       "    }\n",
       "</style>\n",
       "<table border=\"1\" class=\"dataframe\">\n",
       "  <thead>\n",
       "    <tr style=\"text-align: right;\">\n",
       "      <th></th>\n",
       "      <th>Rank</th>\n",
       "      <th>Total</th>\n",
       "      <th>Rules</th>\n",
       "      <th>Fouls</th>\n",
       "      <th>Fair</th>\n",
       "      <th>Attitude</th>\n",
       "      <th>Comm.</th>\n",
       "    </tr>\n",
       "  </thead>\n",
       "  <tbody>\n",
       "    <tr>\n",
       "      <th>Rank</th>\n",
       "      <td>1.000000</td>\n",
       "      <td>0.334322</td>\n",
       "      <td>-0.088134</td>\n",
       "      <td>0.407900</td>\n",
       "      <td>0.290935</td>\n",
       "      <td>0.272569</td>\n",
       "      <td>0.260014</td>\n",
       "    </tr>\n",
       "    <tr>\n",
       "      <th>Total</th>\n",
       "      <td>0.334322</td>\n",
       "      <td>1.000000</td>\n",
       "      <td>0.546562</td>\n",
       "      <td>0.878852</td>\n",
       "      <td>0.787066</td>\n",
       "      <td>0.811542</td>\n",
       "      <td>0.589499</td>\n",
       "    </tr>\n",
       "    <tr>\n",
       "      <th>Rules</th>\n",
       "      <td>-0.088134</td>\n",
       "      <td>0.546562</td>\n",
       "      <td>1.000000</td>\n",
       "      <td>0.396534</td>\n",
       "      <td>0.364546</td>\n",
       "      <td>0.288470</td>\n",
       "      <td>0.014901</td>\n",
       "    </tr>\n",
       "    <tr>\n",
       "      <th>Fouls</th>\n",
       "      <td>0.407900</td>\n",
       "      <td>0.878852</td>\n",
       "      <td>0.396534</td>\n",
       "      <td>1.000000</td>\n",
       "      <td>0.609897</td>\n",
       "      <td>0.643810</td>\n",
       "      <td>0.453742</td>\n",
       "    </tr>\n",
       "    <tr>\n",
       "      <th>Fair</th>\n",
       "      <td>0.290935</td>\n",
       "      <td>0.787066</td>\n",
       "      <td>0.364546</td>\n",
       "      <td>0.609897</td>\n",
       "      <td>1.000000</td>\n",
       "      <td>0.498648</td>\n",
       "      <td>0.360426</td>\n",
       "    </tr>\n",
       "    <tr>\n",
       "      <th>Attitude</th>\n",
       "      <td>0.272569</td>\n",
       "      <td>0.811542</td>\n",
       "      <td>0.288470</td>\n",
       "      <td>0.643810</td>\n",
       "      <td>0.498648</td>\n",
       "      <td>1.000000</td>\n",
       "      <td>0.435929</td>\n",
       "    </tr>\n",
       "    <tr>\n",
       "      <th>Comm.</th>\n",
       "      <td>0.260014</td>\n",
       "      <td>0.589499</td>\n",
       "      <td>0.014901</td>\n",
       "      <td>0.453742</td>\n",
       "      <td>0.360426</td>\n",
       "      <td>0.435929</td>\n",
       "      <td>1.000000</td>\n",
       "    </tr>\n",
       "  </tbody>\n",
       "</table>\n",
       "</div>"
      ],
      "text/plain": [
       "              Rank     Total     Rules     Fouls      Fair  Attitude     Comm.\n",
       "Rank      1.000000  0.334322 -0.088134  0.407900  0.290935  0.272569  0.260014\n",
       "Total     0.334322  1.000000  0.546562  0.878852  0.787066  0.811542  0.589499\n",
       "Rules    -0.088134  0.546562  1.000000  0.396534  0.364546  0.288470  0.014901\n",
       "Fouls     0.407900  0.878852  0.396534  1.000000  0.609897  0.643810  0.453742\n",
       "Fair      0.290935  0.787066  0.364546  0.609897  1.000000  0.498648  0.360426\n",
       "Attitude  0.272569  0.811542  0.288470  0.643810  0.498648  1.000000  0.435929\n",
       "Comm.     0.260014  0.589499  0.014901  0.453742  0.360426  0.435929  1.000000"
      ]
     },
     "execution_count": 15,
     "metadata": {},
     "output_type": "execute_result"
    }
   ],
   "source": [
    "men2018.corr()"
   ]
  },
  {
   "cell_type": "code",
   "execution_count": 16,
   "metadata": {},
   "outputs": [
    {
     "data": {
      "text/plain": [
       "<matplotlib.axes._subplots.AxesSubplot at 0x21410949ba8>"
      ]
     },
     "execution_count": 16,
     "metadata": {},
     "output_type": "execute_result"
    },
    {
     "data": {
      "image/png": "[encoded data removed]",
      "text/plain": [
       "<Figure size 432x288 with 2 Axes>"
      ]
     },
     "metadata": {
      "needs_background": "light"
     },
     "output_type": "display_data"
    }
   ],
   "source": [
    "sns.heatmap(men2018.corr(), cmap='RdBu_r')"
   ]
  },
  {
   "cell_type": "markdown",
   "metadata": {},
   "source": [
    "For 2018 Men's, a high rank (i.e. lower placement) indicates a slight positive correlation, except in the Rules category which has almost no correlation."
   ]
  },
  {
   "cell_type": "markdown",
   "metadata": {},
   "source": [
    "## Thoughts\n",
    "\n",
    "* USAU Data requires massaging; no easy ways to extract from the website\n",
    "* Can relatively easily expand to Mixed & Women's to see if there are any differences\n",
    "* Possible Expansions\n",
    "    * Seed (\"Happy to be here\")\n",
    "    * Difference between Rank & Seed (i.e. Underdog / Not meeting expectations)\n",
    "    * Point Differential (i.e. close games might get heated)\n",
    "* Spirit\n",
    "    * Like the relationship between pirates disappearing and rising temperature, this is correlation at work, not causation. As documented at https://ultimatehistory.com/stats/ (specifically Spirit https://app.box.com/s/kl0mhm28ag4xmol6liqa), there are teams who have achieved top Spirit across all three divisions and won (Fury 2008 2010 2012 / Drag'n Thrust 2014 / Revolver 2013). \n",
    "    * According to the scoresheet, \"2\" is the average. \n",
    "        * 2018 Mixed has 4 teams below and an average of 10.76\n",
    "        * 2018 Women's has 5 teams below and an average of 10.22\n",
    "        * 2018 Men's has half the teams below \"10\" and half above and an average of 9.92.\n",
    "* Full dataset (including game scores for usage in point differentials) is available as far back as 2004\n",
    "    * https://www.usaultimate.org/archives/2004_club.aspx"
   ]
  },
  {
   "cell_type": "markdown",
   "metadata": {},
   "source": [
    "## Sources\n",
    "\n",
    "* https://play.usaultimate.org/events/USA-Ultimate-National-Championships-2018/\n",
    "* https://ultiworld.com/2018/10/26/spirit-scores-club-nationals/\n"
   ]
  }
 ],
 "metadata": {
  "kernelspec": {
   "display_name": "Python 3",
   "language": "python",
   "name": "python3"
  },
  "language_info": {
   "codemirror_mode": {
    "name": "ipython",
    "version": 3
   },
   "file_extension": ".py",
   "mimetype": "text/x-python",
   "name": "python",
   "nbconvert_exporter": "python",
   "pygments_lexer": "ipython3",
   "version": "3.7.0"
  }
 },
 "nbformat": 4,
 "nbformat_minor": 2
}
